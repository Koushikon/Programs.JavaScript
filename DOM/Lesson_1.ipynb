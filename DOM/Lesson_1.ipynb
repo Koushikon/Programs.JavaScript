{
 "cells": [
  {
   "cell_type": "markdown",
   "metadata": {},
   "source": [
    "# DOM related question and answers\n",
    "\n",
    "- Using this code we can turn on or off all the checkboxes on the Webpage"
   ]
  },
  {
   "cell_type": "code",
   "execution_count": 9,
   "metadata": {
    "dotnet_interactive": {
     "language": "javascript"
    }
   },
   "outputs": [],
   "source": [
    "document.querySelectorAll(\"input[type=checkbox]\").forEach(element => element.checked = true);"
   ]
  },
  {
   "cell_type": "markdown",
   "metadata": {},
   "source": [
    "## Json Object to Urlencoded string\n",
    "\n",
    "Source: [Link](https://gist.github.com/lastguest/1fd181a9c9db0550a847)"
   ]
  },
  {
   "cell_type": "code",
   "execution_count": 10,
   "metadata": {
    "dotnet_interactive": {
     "language": "javascript"
    }
   },
   "outputs": [
    {
     "data": {
      "text/plain": [
       "users[0][id]=100&users[0][name]=Stefano&users[1][id]=200&users[1][name]=Lucia&users[2][id]=300&users[2][name]=Franco&time=1690436923985"
      ]
     },
     "metadata": {},
     "output_type": "display_data"
    }
   ],
   "source": [
    "// 1st Conversion Method\n",
    "function JSON_to_URLEncoded(element,key,list){\n",
    "    var list = list || [];\n",
    "    if(typeof(element)=='object'){\n",
    "        for (var idx in element)\n",
    "        JSON_to_URLEncoded(element[idx],key?key+'['+idx+']':idx,list);\n",
    "    } else {\n",
    "        list.push(key+'='+encodeURIComponent(element));\n",
    "    }\n",
    "    return list.join('&');\n",
    "}\n",
    "\n",
    "var data = {\n",
    "    'users' : [\n",
    "        {\n",
    "            \"id\": 100,\n",
    "            \"name\": \"Stefano\"\n",
    "        },\n",
    "        {\n",
    "            \"id\": 200,\n",
    "            \"name\": \"Lucia\"\n",
    "        },\n",
    "        {\n",
    "            \"id\": 300,\n",
    "            \"name\": \"Franco\"\n",
    "        },\n",
    "    ],\n",
    "    'time' : +new Date\n",
    "};\n",
    "\n",
    "console.log(\n",
    "    JSON_to_URLEncoded(data)\n",
    ");"
   ]
  },
  {
   "cell_type": "code",
   "execution_count": 11,
   "metadata": {
    "dotnet_interactive": {
     "language": "javascript"
    }
   },
   "outputs": [],
   "source": [
    "// 2nd Conversion Method\n",
    "const toUrlEncoded = obj => Object.keys(obj).map(k => encodeURIComponent(k) + '=' + encodeURIComponent(obj[k])).join('&');\n",
    "\n",
    "toUrlEncoded({hello: 'world', message: \"JavaScript is cool\"});"
   ]
  }
 ],
 "metadata": {
  "kernelspec": {
   "display_name": ".NET (C#)",
   "language": "C#",
   "name": ".net-csharp"
  },
  "language_info": {
   "name": "polyglot-notebook"
  },
  "polyglot_notebook": {
   "kernelInfo": {
    "defaultKernelName": "csharp",
    "items": [
     {
      "aliases": [],
      "name": ".NET"
     },
     {
      "aliases": [
       "C#",
       "c#"
      ],
      "languageName": "C#",
      "name": "csharp"
     },
     {
      "aliases": [
       "F#",
       "f#"
      ],
      "languageName": "F#",
      "name": "fsharp"
     },
     {
      "aliases": [],
      "languageName": "HTML",
      "name": "html"
     },
     {
      "aliases": [
       "js"
      ],
      "languageName": "JavaScript",
      "name": "javascript"
     },
     {
      "aliases": [],
      "languageName": "KQL",
      "name": "kql"
     },
     {
      "aliases": [],
      "languageName": "Mermaid",
      "name": "mermaid"
     },
     {
      "aliases": [
       "powershell"
      ],
      "languageName": "PowerShell",
      "name": "pwsh"
     },
     {
      "aliases": [],
      "languageName": "SQL",
      "name": "sql"
     },
     {
      "aliases": [],
      "name": "value"
     },
     {
      "aliases": [
       "frontend"
      ],
      "name": "vscode"
     },
     {
      "aliases": [],
      "name": "webview"
     }
    ]
   }
  }
 },
 "nbformat": 4,
 "nbformat_minor": 2
}
